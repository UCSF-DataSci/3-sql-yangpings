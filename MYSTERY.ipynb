{
 "cells": [
  {
   "cell_type": "markdown",
   "id": "ebb94371",
   "metadata": {},
   "source": [
    "# SQL Murder Mystery\n",
    "\n",
    "## Can you find out whodunnit?\n",
    "\n",
    "![A decorative illustration of a detective looking at an evidence board.](https://mystery.knightlab.com/174092-clue-illustration.png)\n",
    "\n",
    "There's been a Murder in SQL City! The SQL Murder Mystery is designed to be both a self-directed lesson to learn SQL concepts and commands and a fun game for experienced SQL users to solve an intriguing crime.\n",
    "\n",
    "## SQL sleuths start here\n",
    "\n",
    "A crime has taken place and the detective needs your help. The detective gave you the crime scene report, but you somehow lost it. You vaguely remember that the crime was a **​murder​**that occurred sometime on ​**Jan.15, 2018​** and that it took place in ​**SQL City​**. Start by retrieving the corresponding crime scene report from the police department’s database.\n",
    "\n",
    "### Exploring the Database Structure\n",
    "\n",
    "Experienced SQL users can often use database queries to infer the structure of a database. But each database system has different ways of managing this information. The SQL Murder Mystery is built using SQLite. Use this SQL command to find the tables in the Murder Mystery database.\n",
    "\n",
    "Run this query to find the names of the tables in this database.\n",
    "\n",
    "This command is specific to SQLite. For other databases, you'll have to learn their specific syntax.\n"
   ]
  },
  {
   "cell_type": "code",
   "id": "1370e6a4",
   "metadata": {
    "ExecuteTime": {
     "end_time": "2025-04-23T10:45:21.086808Z",
     "start_time": "2025-04-23T10:45:11.064525Z"
    }
   },
   "source": [
    "# Install required packages\n",
    "%pip install jupysql sqlalchemy pandas --quiet\n",
    "\n",
    "# Load SQL magic\n",
    "%load_ext sql\n",
    "\n",
    "# Connect to the database\n",
    "%sql sqlite:///sql-murder-mystery.db\n",
    "#%config SqlMagic.style = 'table'"
   ],
   "outputs": [
    {
     "name": "stdout",
     "output_type": "stream",
     "text": [
      "Note: you may need to restart the kernel to use updated packages.\n"
     ]
    },
    {
     "data": {
      "text/plain": [
       "Connecting to 'sqlite:///sql-murder-mystery.db'"
      ],
      "text/html": [
       "<span style=\"None\">Connecting to &#x27;sqlite:///sql-murder-mystery.db&#x27;</span>"
      ]
     },
     "metadata": {},
     "output_type": "display_data"
    }
   ],
   "execution_count": 1
  },
  {
   "cell_type": "code",
   "id": "2f0d9254",
   "metadata": {
    "ExecuteTime": {
     "end_time": "2025-04-23T10:46:22.991380Z",
     "start_time": "2025-04-23T10:46:22.978049Z"
    }
   },
   "source": [
    "%%sql\n",
    "SELECT name\n",
    "FROM sqlite_master"
   ],
   "outputs": [
    {
     "data": {
      "text/plain": [
       "Running query in 'sqlite:///sql-murder-mystery.db'"
      ],
      "text/html": [
       "<span style=\"None\">Running query in &#x27;sqlite:///sql-murder-mystery.db&#x27;</span>"
      ]
     },
     "metadata": {},
     "output_type": "display_data"
    },
    {
     "data": {
      "text/plain": [
       "+---------------------------------------+\n",
       "|                  name                 |\n",
       "+---------------------------------------+\n",
       "|           crime_scene_report          |\n",
       "|            drivers_license            |\n",
       "|         facebook_event_checkin        |\n",
       "|               interview               |\n",
       "|           get_fit_now_member          |\n",
       "| sqlite_autoindex_get_fit_now_member_1 |\n",
       "|          get_fit_now_check_in         |\n",
       "|                solution               |\n",
       "|             check_solution            |\n",
       "|                 income                |\n",
       "+---------------------------------------+\n",
       "Truncated to displaylimit of 10."
      ],
      "text/html": [
       "<table>\n",
       "    <thead>\n",
       "        <tr>\n",
       "            <th>name</th>\n",
       "        </tr>\n",
       "    </thead>\n",
       "    <tbody>\n",
       "        <tr>\n",
       "            <td>crime_scene_report</td>\n",
       "        </tr>\n",
       "        <tr>\n",
       "            <td>drivers_license</td>\n",
       "        </tr>\n",
       "        <tr>\n",
       "            <td>facebook_event_checkin</td>\n",
       "        </tr>\n",
       "        <tr>\n",
       "            <td>interview</td>\n",
       "        </tr>\n",
       "        <tr>\n",
       "            <td>get_fit_now_member</td>\n",
       "        </tr>\n",
       "        <tr>\n",
       "            <td>sqlite_autoindex_get_fit_now_member_1</td>\n",
       "        </tr>\n",
       "        <tr>\n",
       "            <td>get_fit_now_check_in</td>\n",
       "        </tr>\n",
       "        <tr>\n",
       "            <td>solution</td>\n",
       "        </tr>\n",
       "        <tr>\n",
       "            <td>check_solution</td>\n",
       "        </tr>\n",
       "        <tr>\n",
       "            <td>income</td>\n",
       "        </tr>\n",
       "    </tbody>\n",
       "</table>\n",
       "<span style=\"font-style:italic;text-align:center;\">Truncated to <a href=\"https://jupysql.ploomber.io/en/latest/api/configuration.html#displaylimit\">displaylimit</a> of 10.</span>"
      ]
     },
     "execution_count": 2,
     "metadata": {},
     "output_type": "execute_result"
    }
   ],
   "execution_count": 2
  },
  {
   "cell_type": "markdown",
   "id": "c71b53aa",
   "metadata": {},
   "source": [
    "\n",
    "Besides knowing the table names, you need to know how each table is structured. The way this works is also dependent upon which database technology you use. Here's how you do it with SQLite.\n",
    "\n",
    "Run this query to find the structure of the `crime_scene_report` table\n",
    "\n",
    "Change the value of 'name' to see the structure of the other tables you learned about with the previous query.\n"
   ]
  },
  {
   "cell_type": "code",
   "id": "a977d922",
   "metadata": {
    "ExecuteTime": {
     "end_time": "2025-04-23T10:46:31.636327Z",
     "start_time": "2025-04-23T10:46:31.627714Z"
    }
   },
   "source": [
    "%%sql\n",
    "SELECT sql\n",
    "FROM sqlite_master\n",
    "where name = 'crime_scene_report'"
   ],
   "outputs": [
    {
     "data": {
      "text/plain": [
       "Running query in 'sqlite:///sql-murder-mystery.db'"
      ],
      "text/html": [
       "<span style=\"None\">Running query in &#x27;sqlite:///sql-murder-mystery.db&#x27;</span>"
      ]
     },
     "metadata": {},
     "output_type": "display_data"
    },
    {
     "data": {
      "text/plain": [
       "+-----------------------------------+\n",
       "|                sql                |\n",
       "+-----------------------------------+\n",
       "| CREATE TABLE crime_scene_report ( |\n",
       "|               date integer,       |\n",
       "|                 type text,        |\n",
       "|             description text,     |\n",
       "|                 city text         |\n",
       "|                   )               |\n",
       "+-----------------------------------+"
      ],
      "text/html": [
       "<table>\n",
       "    <thead>\n",
       "        <tr>\n",
       "            <th>sql</th>\n",
       "        </tr>\n",
       "    </thead>\n",
       "    <tbody>\n",
       "        <tr>\n",
       "            <td>CREATE TABLE crime_scene_report (<br>        date integer,<br>        type text,<br>        description text,<br>        city text<br>    )</td>\n",
       "        </tr>\n",
       "    </tbody>\n",
       "</table>"
      ]
     },
     "execution_count": 3,
     "metadata": {},
     "output_type": "execute_result"
    }
   ],
   "execution_count": 3
  },
  {
   "cell_type": "markdown",
   "id": "d9789bc7",
   "metadata": {},
   "source": [
    "\n",
    "### The rest is up to you!\n",
    "\n",
    "If you're really comfortable with SQL, you can probably get it from here. To help, here is the schema diagram:\n",
    "\n",
    "![schema diagram](schema.png)\n",
    "\n",
    "Use your knowledge of the database schema and SQL commands to find out who committed the murder.\n",
    "\n"
   ]
  },
  {
   "metadata": {},
   "cell_type": "markdown",
   "source": "Locate case ",
   "id": "504c04abd1f5838"
  },
  {
   "metadata": {
    "ExecuteTime": {
     "end_time": "2025-04-23T11:06:04.759848Z",
     "start_time": "2025-04-23T11:06:04.746151Z"
    }
   },
   "cell_type": "code",
   "source": [
    "%%sql\n",
    "SELECT *\n",
    "FROM crime_scene_report\n",
    "where city = \"SQL City\"\n",
    "AND type = \"murder\"\n",
    "AND date = \"20180115\""
   ],
   "id": "bb361b1edfdf3574",
   "outputs": [
    {
     "data": {
      "text/plain": [
       "Running query in 'sqlite:///sql-murder-mystery.db'"
      ],
      "text/html": [
       "<span style=\"None\">Running query in &#x27;sqlite:///sql-murder-mystery.db&#x27;</span>"
      ]
     },
     "metadata": {},
     "output_type": "display_data"
    },
    {
     "data": {
      "text/plain": [
       "+----------+--------+-------------------------------------------------------------------------------------------------------------------------------------------------------------------------------------------+----------+\n",
       "|   date   |  type  |                                                                                        description                                                                                        |   city   |\n",
       "+----------+--------+-------------------------------------------------------------------------------------------------------------------------------------------------------------------------------------------+----------+\n",
       "| 20180115 | murder | Security footage shows that there were 2 witnesses. The first witness lives at the last house on \"Northwestern Dr\". The second witness, named Annabel, lives somewhere on \"Franklin Ave\". | SQL City |\n",
       "+----------+--------+-------------------------------------------------------------------------------------------------------------------------------------------------------------------------------------------+----------+"
      ],
      "text/html": [
       "<table>\n",
       "    <thead>\n",
       "        <tr>\n",
       "            <th>date</th>\n",
       "            <th>type</th>\n",
       "            <th>description</th>\n",
       "            <th>city</th>\n",
       "        </tr>\n",
       "    </thead>\n",
       "    <tbody>\n",
       "        <tr>\n",
       "            <td>20180115</td>\n",
       "            <td>murder</td>\n",
       "            <td>Security footage shows that there were 2 witnesses. The first witness lives at the last house on \"Northwestern Dr\". The second witness, named Annabel, lives somewhere on \"Franklin Ave\".</td>\n",
       "            <td>SQL City</td>\n",
       "        </tr>\n",
       "    </tbody>\n",
       "</table>"
      ]
     },
     "execution_count": 6,
     "metadata": {},
     "output_type": "execute_result"
    }
   ],
   "execution_count": 6
  },
  {
   "metadata": {},
   "cell_type": "markdown",
   "source": "locate 2 witnesses",
   "id": "9c63fbd014ccb074"
  },
  {
   "metadata": {
    "ExecuteTime": {
     "end_time": "2025-04-23T11:28:43.613272Z",
     "start_time": "2025-04-23T11:28:43.600543Z"
    }
   },
   "cell_type": "code",
   "source": [
    "%%sql\n",
    "SELECT *\n",
    "FROM person\n",
    "WHERE address_street_name = \"Franklin Ave\"\n",
    "AND name = \"Annabel Miller\""
   ],
   "id": "840987380f9fada",
   "outputs": [
    {
     "data": {
      "text/plain": [
       "Running query in 'sqlite:///sql-murder-mystery.db'"
      ],
      "text/html": [
       "<span style=\"None\">Running query in &#x27;sqlite:///sql-murder-mystery.db&#x27;</span>"
      ]
     },
     "metadata": {},
     "output_type": "display_data"
    },
    {
     "data": {
      "text/plain": [
       "+-------+----------------+------------+----------------+---------------------+-----------+\n",
       "|   id  |      name      | license_id | address_number | address_street_name |    ssn    |\n",
       "+-------+----------------+------------+----------------+---------------------+-----------+\n",
       "| 16371 | Annabel Miller |   490173   |      103       |     Franklin Ave    | 318771143 |\n",
       "+-------+----------------+------------+----------------+---------------------+-----------+"
      ],
      "text/html": [
       "<table>\n",
       "    <thead>\n",
       "        <tr>\n",
       "            <th>id</th>\n",
       "            <th>name</th>\n",
       "            <th>license_id</th>\n",
       "            <th>address_number</th>\n",
       "            <th>address_street_name</th>\n",
       "            <th>ssn</th>\n",
       "        </tr>\n",
       "    </thead>\n",
       "    <tbody>\n",
       "        <tr>\n",
       "            <td>16371</td>\n",
       "            <td>Annabel Miller</td>\n",
       "            <td>490173</td>\n",
       "            <td>103</td>\n",
       "            <td>Franklin Ave</td>\n",
       "            <td>318771143</td>\n",
       "        </tr>\n",
       "    </tbody>\n",
       "</table>"
      ]
     },
     "execution_count": 11,
     "metadata": {},
     "output_type": "execute_result"
    }
   ],
   "execution_count": 11
  },
  {
   "metadata": {
    "ExecuteTime": {
     "end_time": "2025-04-23T11:31:27.320420Z",
     "start_time": "2025-04-23T11:31:27.307476Z"
    }
   },
   "cell_type": "code",
   "source": [
    "%%sql\n",
    "SELECT *\n",
    "FROM person\n",
    "WHERE address_street_name = \"Northwestern Dr\"\n",
    "AND name = \"Morty Schapiro\""
   ],
   "id": "4acc8adea8368280",
   "outputs": [
    {
     "data": {
      "text/plain": [
       "Running query in 'sqlite:///sql-murder-mystery.db'"
      ],
      "text/html": [
       "<span style=\"None\">Running query in &#x27;sqlite:///sql-murder-mystery.db&#x27;</span>"
      ]
     },
     "metadata": {},
     "output_type": "display_data"
    },
    {
     "data": {
      "text/plain": [
       "+-------+----------------+------------+----------------+---------------------+-----------+\n",
       "|   id  |      name      | license_id | address_number | address_street_name |    ssn    |\n",
       "+-------+----------------+------------+----------------+---------------------+-----------+\n",
       "| 14887 | Morty Schapiro |   118009   |      4919      |   Northwestern Dr   | 111564949 |\n",
       "+-------+----------------+------------+----------------+---------------------+-----------+"
      ],
      "text/html": [
       "<table>\n",
       "    <thead>\n",
       "        <tr>\n",
       "            <th>id</th>\n",
       "            <th>name</th>\n",
       "            <th>license_id</th>\n",
       "            <th>address_number</th>\n",
       "            <th>address_street_name</th>\n",
       "            <th>ssn</th>\n",
       "        </tr>\n",
       "    </thead>\n",
       "    <tbody>\n",
       "        <tr>\n",
       "            <td>14887</td>\n",
       "            <td>Morty Schapiro</td>\n",
       "            <td>118009</td>\n",
       "            <td>4919</td>\n",
       "            <td>Northwestern Dr</td>\n",
       "            <td>111564949</td>\n",
       "        </tr>\n",
       "    </tbody>\n",
       "</table>"
      ]
     },
     "execution_count": 13,
     "metadata": {},
     "output_type": "execute_result"
    }
   ],
   "execution_count": 13
  },
  {
   "metadata": {},
   "cell_type": "markdown",
   "source": "get interviews",
   "id": "e3bc7c25a87a65dd"
  },
  {
   "metadata": {
    "ExecuteTime": {
     "end_time": "2025-04-23T11:38:37.769534Z",
     "start_time": "2025-04-23T11:38:37.738987Z"
    }
   },
   "cell_type": "code",
   "source": [
    "%%sql\n",
    "SELECT *\n",
    "FROM interview\n",
    "WHERE person_id = \"14887\"\n",
    "or person_id = \"16371\""
   ],
   "id": "f694fdf4bc18dfca",
   "outputs": [
    {
     "data": {
      "text/plain": [
       "Running query in 'sqlite:///sql-murder-mystery.db'"
      ],
      "text/html": [
       "<span style=\"None\">Running query in &#x27;sqlite:///sql-murder-mystery.db&#x27;</span>"
      ]
     },
     "metadata": {},
     "output_type": "display_data"
    },
    {
     "data": {
      "text/plain": [
       "+-----------+---------------------------------------------------------------------------------------------------------------------------------------------------------------------------------------------------------------------------------+\n",
       "| person_id |                                                                                                            transcript                                                                                                           |\n",
       "+-----------+---------------------------------------------------------------------------------------------------------------------------------------------------------------------------------------------------------------------------------+\n",
       "|   14887   | I heard a gunshot and then saw a man run out. He had a \"Get Fit Now Gym\" bag. The membership number on the bag started with \"48Z\". Only gold members have those bags. The man got into a car with a plate that included \"H42W\". |\n",
       "|   16371   |                                                      I saw the murder happen, and I recognized the killer from my gym when I was working out last week on January the 9th.                                                      |\n",
       "+-----------+---------------------------------------------------------------------------------------------------------------------------------------------------------------------------------------------------------------------------------+"
      ],
      "text/html": [
       "<table>\n",
       "    <thead>\n",
       "        <tr>\n",
       "            <th>person_id</th>\n",
       "            <th>transcript</th>\n",
       "        </tr>\n",
       "    </thead>\n",
       "    <tbody>\n",
       "        <tr>\n",
       "            <td>14887</td>\n",
       "            <td>I heard a gunshot and then saw a man run out. He had a \"Get Fit Now Gym\" bag. The membership number on the bag started with \"48Z\". Only gold members have those bags. The man got into a car with a plate that included \"H42W\".</td>\n",
       "        </tr>\n",
       "        <tr>\n",
       "            <td>16371</td>\n",
       "            <td>I saw the murder happen, and I recognized the killer from my gym when I was working out last week on January the 9th.</td>\n",
       "        </tr>\n",
       "    </tbody>\n",
       "</table>"
      ]
     },
     "execution_count": 20,
     "metadata": {},
     "output_type": "execute_result"
    }
   ],
   "execution_count": 20
  },
  {
   "metadata": {},
   "cell_type": "markdown",
   "source": "Gym",
   "id": "63a9f30c3ef86335"
  },
  {
   "metadata": {
    "ExecuteTime": {
     "end_time": "2025-04-23T11:46:32.449546Z",
     "start_time": "2025-04-23T11:46:32.437608Z"
    }
   },
   "cell_type": "code",
   "source": [
    "%%sql\n",
    "SELECT *\n",
    "FROM get_fit_now_check_in\n",
    "WHERE check_in_date = \"20180109\"\n",
    "AND (membership_id = \"48Z7A\" \n",
    "OR membership_id = \"48Z55\")"
   ],
   "id": "e37f61f0d7396b68",
   "outputs": [
    {
     "data": {
      "text/plain": [
       "Running query in 'sqlite:///sql-murder-mystery.db'"
      ],
      "text/html": [
       "<span style=\"None\">Running query in &#x27;sqlite:///sql-murder-mystery.db&#x27;</span>"
      ]
     },
     "metadata": {},
     "output_type": "display_data"
    },
    {
     "data": {
      "text/plain": [
       "+---------------+---------------+---------------+----------------+\n",
       "| membership_id | check_in_date | check_in_time | check_out_time |\n",
       "+---------------+---------------+---------------+----------------+\n",
       "|     48Z7A     |    20180109   |      1600     |      1730      |\n",
       "|     48Z55     |    20180109   |      1530     |      1700      |\n",
       "+---------------+---------------+---------------+----------------+"
      ],
      "text/html": [
       "<table>\n",
       "    <thead>\n",
       "        <tr>\n",
       "            <th>membership_id</th>\n",
       "            <th>check_in_date</th>\n",
       "            <th>check_in_time</th>\n",
       "            <th>check_out_time</th>\n",
       "        </tr>\n",
       "    </thead>\n",
       "    <tbody>\n",
       "        <tr>\n",
       "            <td>48Z7A</td>\n",
       "            <td>20180109</td>\n",
       "            <td>1600</td>\n",
       "            <td>1730</td>\n",
       "        </tr>\n",
       "        <tr>\n",
       "            <td>48Z55</td>\n",
       "            <td>20180109</td>\n",
       "            <td>1530</td>\n",
       "            <td>1700</td>\n",
       "        </tr>\n",
       "    </tbody>\n",
       "</table>"
      ]
     },
     "execution_count": 40,
     "metadata": {},
     "output_type": "execute_result"
    }
   ],
   "execution_count": 40
  },
  {
   "metadata": {},
   "cell_type": "markdown",
   "source": "gold memberships",
   "id": "e4e819aa9af90bf4"
  },
  {
   "metadata": {
    "ExecuteTime": {
     "end_time": "2025-04-23T11:46:52.195724Z",
     "start_time": "2025-04-23T11:46:52.188537Z"
    }
   },
   "cell_type": "code",
   "source": [
    "%%sql\n",
    "SELECT *\n",
    "FROM get_fit_now_member\n",
    "WHERE id = \"48Z7A\" \n",
    "OR id = \"48Z55\""
   ],
   "id": "8fe3e3acdb96a8f0",
   "outputs": [
    {
     "data": {
      "text/plain": [
       "Running query in 'sqlite:///sql-murder-mystery.db'"
      ],
      "text/html": [
       "<span style=\"None\">Running query in &#x27;sqlite:///sql-murder-mystery.db&#x27;</span>"
      ]
     },
     "metadata": {},
     "output_type": "display_data"
    },
    {
     "data": {
      "text/plain": [
       "+-------+-----------+---------------+-----------------------+-------------------+\n",
       "|   id  | person_id |      name     | membership_start_date | membership_status |\n",
       "+-------+-----------+---------------+-----------------------+-------------------+\n",
       "| 48Z55 |   67318   | Jeremy Bowers |        20160101       |        gold       |\n",
       "| 48Z7A |   28819   |  Joe Germuska |        20160305       |        gold       |\n",
       "+-------+-----------+---------------+-----------------------+-------------------+"
      ],
      "text/html": [
       "<table>\n",
       "    <thead>\n",
       "        <tr>\n",
       "            <th>id</th>\n",
       "            <th>person_id</th>\n",
       "            <th>name</th>\n",
       "            <th>membership_start_date</th>\n",
       "            <th>membership_status</th>\n",
       "        </tr>\n",
       "    </thead>\n",
       "    <tbody>\n",
       "        <tr>\n",
       "            <td>48Z55</td>\n",
       "            <td>67318</td>\n",
       "            <td>Jeremy Bowers</td>\n",
       "            <td>20160101</td>\n",
       "            <td>gold</td>\n",
       "        </tr>\n",
       "        <tr>\n",
       "            <td>48Z7A</td>\n",
       "            <td>28819</td>\n",
       "            <td>Joe Germuska</td>\n",
       "            <td>20160305</td>\n",
       "            <td>gold</td>\n",
       "        </tr>\n",
       "    </tbody>\n",
       "</table>"
      ]
     },
     "execution_count": 41,
     "metadata": {},
     "output_type": "execute_result"
    }
   ],
   "execution_count": 41
  },
  {
   "metadata": {},
   "cell_type": "markdown",
   "source": "suspects are both guys",
   "id": "907e9541068a0609"
  },
  {
   "metadata": {},
   "cell_type": "markdown",
   "source": "car",
   "id": "d3b81469de250471"
  },
  {
   "metadata": {
    "ExecuteTime": {
     "end_time": "2025-04-23T11:50:02.907177Z",
     "start_time": "2025-04-23T11:50:02.891596Z"
    }
   },
   "cell_type": "code",
   "source": [
    "%%sql\n",
    "SELECT *\n",
    "FROM drivers_license\n",
    "WHERE plate_number LIKE '%H42W%'"
   ],
   "id": "31dd54b400368391",
   "outputs": [
    {
     "data": {
      "text/plain": [
       "Running query in 'sqlite:///sql-murder-mystery.db'"
      ],
      "text/html": [
       "<span style=\"None\">Running query in &#x27;sqlite:///sql-murder-mystery.db&#x27;</span>"
      ]
     },
     "metadata": {},
     "output_type": "display_data"
    },
    {
     "data": {
      "text/plain": [
       "+--------+-----+--------+-----------+------------+--------+--------------+-----------+-----------+\n",
       "|   id   | age | height | eye_color | hair_color | gender | plate_number |  car_make | car_model |\n",
       "+--------+-----+--------+-----------+------------+--------+--------------+-----------+-----------+\n",
       "| 183779 |  21 |   65   |    blue   |   blonde   | female |    H42W0X    |   Toyota  |   Prius   |\n",
       "| 423327 |  30 |   70   |   brown   |   brown    |  male  |    0H42W2    | Chevrolet |  Spark LS |\n",
       "| 664760 |  21 |   71   |   black   |   black    |  male  |    4H42WR    |   Nissan  |   Altima  |\n",
       "+--------+-----+--------+-----------+------------+--------+--------------+-----------+-----------+"
      ],
      "text/html": [
       "<table>\n",
       "    <thead>\n",
       "        <tr>\n",
       "            <th>id</th>\n",
       "            <th>age</th>\n",
       "            <th>height</th>\n",
       "            <th>eye_color</th>\n",
       "            <th>hair_color</th>\n",
       "            <th>gender</th>\n",
       "            <th>plate_number</th>\n",
       "            <th>car_make</th>\n",
       "            <th>car_model</th>\n",
       "        </tr>\n",
       "    </thead>\n",
       "    <tbody>\n",
       "        <tr>\n",
       "            <td>183779</td>\n",
       "            <td>21</td>\n",
       "            <td>65</td>\n",
       "            <td>blue</td>\n",
       "            <td>blonde</td>\n",
       "            <td>female</td>\n",
       "            <td>H42W0X</td>\n",
       "            <td>Toyota</td>\n",
       "            <td>Prius</td>\n",
       "        </tr>\n",
       "        <tr>\n",
       "            <td>423327</td>\n",
       "            <td>30</td>\n",
       "            <td>70</td>\n",
       "            <td>brown</td>\n",
       "            <td>brown</td>\n",
       "            <td>male</td>\n",
       "            <td>0H42W2</td>\n",
       "            <td>Chevrolet</td>\n",
       "            <td>Spark LS</td>\n",
       "        </tr>\n",
       "        <tr>\n",
       "            <td>664760</td>\n",
       "            <td>21</td>\n",
       "            <td>71</td>\n",
       "            <td>black</td>\n",
       "            <td>black</td>\n",
       "            <td>male</td>\n",
       "            <td>4H42WR</td>\n",
       "            <td>Nissan</td>\n",
       "            <td>Altima</td>\n",
       "        </tr>\n",
       "    </tbody>\n",
       "</table>"
      ]
     },
     "execution_count": 46,
     "metadata": {},
     "output_type": "execute_result"
    }
   ],
   "execution_count": 46
  },
  {
   "metadata": {
    "ExecuteTime": {
     "end_time": "2025-04-23T11:51:30.097560Z",
     "start_time": "2025-04-23T11:51:30.086619Z"
    }
   },
   "cell_type": "code",
   "source": [
    "%%sql\n",
    "SELECT *\n",
    "FROM person\n",
    "WHERE id = \"67318\"\n",
    "OR id = \"28819\""
   ],
   "id": "56e1c72cc7f1f3f7",
   "outputs": [
    {
     "data": {
      "text/plain": [
       "Running query in 'sqlite:///sql-murder-mystery.db'"
      ],
      "text/html": [
       "<span style=\"None\">Running query in &#x27;sqlite:///sql-murder-mystery.db&#x27;</span>"
      ]
     },
     "metadata": {},
     "output_type": "display_data"
    },
    {
     "data": {
      "text/plain": [
       "+-------+---------------+------------+----------------+-----------------------+-----------+\n",
       "|   id  |      name     | license_id | address_number |  address_street_name  |    ssn    |\n",
       "+-------+---------------+------------+----------------+-----------------------+-----------+\n",
       "| 28819 |  Joe Germuska |   173289   |      111       |        Fisk Rd        | 138909730 |\n",
       "| 67318 | Jeremy Bowers |   423327   |      530       | Washington Pl, Apt 3A | 871539279 |\n",
       "+-------+---------------+------------+----------------+-----------------------+-----------+"
      ],
      "text/html": [
       "<table>\n",
       "    <thead>\n",
       "        <tr>\n",
       "            <th>id</th>\n",
       "            <th>name</th>\n",
       "            <th>license_id</th>\n",
       "            <th>address_number</th>\n",
       "            <th>address_street_name</th>\n",
       "            <th>ssn</th>\n",
       "        </tr>\n",
       "    </thead>\n",
       "    <tbody>\n",
       "        <tr>\n",
       "            <td>28819</td>\n",
       "            <td>Joe Germuska</td>\n",
       "            <td>173289</td>\n",
       "            <td>111</td>\n",
       "            <td>Fisk Rd</td>\n",
       "            <td>138909730</td>\n",
       "        </tr>\n",
       "        <tr>\n",
       "            <td>67318</td>\n",
       "            <td>Jeremy Bowers</td>\n",
       "            <td>423327</td>\n",
       "            <td>530</td>\n",
       "            <td>Washington Pl, Apt 3A</td>\n",
       "            <td>871539279</td>\n",
       "        </tr>\n",
       "    </tbody>\n",
       "</table>"
      ]
     },
     "execution_count": 47,
     "metadata": {},
     "output_type": "execute_result"
    }
   ],
   "execution_count": 47
  },
  {
   "metadata": {
    "ExecuteTime": {
     "end_time": "2025-04-23T12:03:32.633431Z",
     "start_time": "2025-04-23T12:03:32.617737Z"
    }
   },
   "cell_type": "code",
   "source": [
    "%%sql\n",
    "SELECT *\n",
    "FROM facebook_event_checkin\n",
    "WHERE person_id = \"67318\"\n",
    "OR person_id = \"28819\""
   ],
   "id": "b7795e04791ad6e1",
   "outputs": [
    {
     "data": {
      "text/plain": [
       "Running query in 'sqlite:///sql-murder-mystery.db'"
      ],
      "text/html": [
       "<span style=\"None\">Running query in &#x27;sqlite:///sql-murder-mystery.db&#x27;</span>"
      ]
     },
     "metadata": {},
     "output_type": "display_data"
    },
    {
     "data": {
      "text/plain": [
       "+-----------+----------+------------------------+----------+\n",
       "| person_id | event_id |       event_name       |   date   |\n",
       "+-----------+----------+------------------------+----------+\n",
       "|   67318   |   4719   | The Funky Grooves Tour | 20180115 |\n",
       "|   67318   |   1143   |  SQL Symphony Concert  | 20171206 |\n",
       "+-----------+----------+------------------------+----------+"
      ],
      "text/html": [
       "<table>\n",
       "    <thead>\n",
       "        <tr>\n",
       "            <th>person_id</th>\n",
       "            <th>event_id</th>\n",
       "            <th>event_name</th>\n",
       "            <th>date</th>\n",
       "        </tr>\n",
       "    </thead>\n",
       "    <tbody>\n",
       "        <tr>\n",
       "            <td>67318</td>\n",
       "            <td>4719</td>\n",
       "            <td>The Funky Grooves Tour</td>\n",
       "            <td>20180115</td>\n",
       "        </tr>\n",
       "        <tr>\n",
       "            <td>67318</td>\n",
       "            <td>1143</td>\n",
       "            <td>SQL Symphony Concert</td>\n",
       "            <td>20171206</td>\n",
       "        </tr>\n",
       "    </tbody>\n",
       "</table>"
      ]
     },
     "execution_count": 55,
     "metadata": {},
     "output_type": "execute_result"
    }
   ],
   "execution_count": 55
  },
  {
   "metadata": {},
   "cell_type": "markdown",
   "source": "",
   "id": "a2f2adcb2c730e86"
  },
  {
   "metadata": {},
   "cell_type": "markdown",
   "source": [
    "### Check your solution\n",
    "\n",
    "Did you find the killer? When you think you know the answer, submit your suspect using the following code and find out if you're right."
   ],
   "id": "ca315c12317983c1"
  },
  {
   "cell_type": "code",
   "id": "830ea4a6",
   "metadata": {
    "ExecuteTime": {
     "end_time": "2025-04-23T12:11:15.981678Z",
     "start_time": "2025-04-23T12:11:15.954429Z"
    }
   },
   "source": [
    "%%sql\n",
    "INSERT INTO solution VALUES (1, 'Jeremy Bowers');\n",
    "SELECT value FROM solution;"
   ],
   "outputs": [
    {
     "data": {
      "text/plain": [
       "Running query in 'sqlite:///sql-murder-mystery.db'"
      ],
      "text/html": [
       "<span style=\"None\">Running query in &#x27;sqlite:///sql-murder-mystery.db&#x27;</span>"
      ]
     },
     "metadata": {},
     "output_type": "display_data"
    },
    {
     "data": {
      "text/plain": [
       "1 rows affected."
      ],
      "text/html": [
       "<span style=\"color: green\">1 rows affected.</span>"
      ]
     },
     "metadata": {},
     "output_type": "display_data"
    },
    {
     "data": {
      "text/plain": [
       "+----------------------------------------------------------------------------------------------------------------------------------------------------------------------------------------------------------------------------------------------------------------------------------------------------------------------------------------------------------------------------------------------------+\n",
       "|                                                                                                                                                                                               value                                                                                                                                                                                                |\n",
       "+----------------------------------------------------------------------------------------------------------------------------------------------------------------------------------------------------------------------------------------------------------------------------------------------------------------------------------------------------------------------------------------------------+\n",
       "| Congrats, you found the murderer! But wait, there's more... If you think you're up for a challenge, try querying the interview transcript of the murderer to find the real villain behind this crime. If you feel especially confident in your SQL skills, try to complete this final step with no more than 2 queries. Use this same INSERT statement with your new suspect to check your answer. |\n",
       "+----------------------------------------------------------------------------------------------------------------------------------------------------------------------------------------------------------------------------------------------------------------------------------------------------------------------------------------------------------------------------------------------------+"
      ],
      "text/html": [
       "<table>\n",
       "    <thead>\n",
       "        <tr>\n",
       "            <th>value</th>\n",
       "        </tr>\n",
       "    </thead>\n",
       "    <tbody>\n",
       "        <tr>\n",
       "            <td>Congrats, you found the murderer! But wait, there's more... If you think you're up for a challenge, try querying the interview transcript of the murderer to find the real villain behind this crime. If you feel especially confident in your SQL skills, try to complete this final step with no more than 2 queries. Use this same INSERT statement with your new suspect to check your answer.</td>\n",
       "        </tr>\n",
       "    </tbody>\n",
       "</table>"
      ]
     },
     "execution_count": 74,
     "metadata": {},
     "output_type": "execute_result"
    }
   ],
   "execution_count": 74
  },
  {
   "metadata": {},
   "cell_type": "markdown",
   "source": "challenge",
   "id": "653de5de5fcde617"
  },
  {
   "cell_type": "code",
   "id": "284072e2",
   "metadata": {
    "ExecuteTime": {
     "end_time": "2025-04-23T11:58:29.155225Z",
     "start_time": "2025-04-23T11:58:29.142570Z"
    }
   },
   "source": [
    "%%sql\n",
    "SELECT *\n",
    "FROM interview\n",
    "WHERE person_id = \"67318\""
   ],
   "outputs": [
    {
     "data": {
      "text/plain": [
       "Running query in 'sqlite:///sql-murder-mystery.db'"
      ],
      "text/html": [
       "<span style=\"None\">Running query in &#x27;sqlite:///sql-murder-mystery.db&#x27;</span>"
      ]
     },
     "metadata": {},
     "output_type": "display_data"
    },
    {
     "data": {
      "text/plain": [
       "+-----------+--------------------------------------------------------------------------------------------------------------------------------------------------------------------------------------------------------------------------------------------------+\n",
       "| person_id |                                                                                                                    transcript                                                                                                                    |\n",
       "+-----------+--------------------------------------------------------------------------------------------------------------------------------------------------------------------------------------------------------------------------------------------------+\n",
       "|   67318   | I was hired by a woman with a lot of money. I don't know her name but I know she's around 5'5\" (65\") or 5'7\" (67\"). She has red hair and she drives a Tesla Model S. I know that she attended the SQL Symphony Concert 3 times in December 2017. |\n",
       "|           |                                                                                                                                                                                                                                                  |\n",
       "+-----------+--------------------------------------------------------------------------------------------------------------------------------------------------------------------------------------------------------------------------------------------------+"
      ],
      "text/html": [
       "<table>\n",
       "    <thead>\n",
       "        <tr>\n",
       "            <th>person_id</th>\n",
       "            <th>transcript</th>\n",
       "        </tr>\n",
       "    </thead>\n",
       "    <tbody>\n",
       "        <tr>\n",
       "            <td>67318</td>\n",
       "            <td>I was hired by a woman with a lot of money. I don't know her name but I know she's around 5'5\" (65\") or 5'7\" (67\"). She has red hair and she drives a Tesla Model S. I know that she attended the SQL Symphony Concert 3 times in December 2017.<br></td>\n",
       "        </tr>\n",
       "    </tbody>\n",
       "</table>"
      ]
     },
     "execution_count": 53,
     "metadata": {},
     "output_type": "execute_result"
    }
   ],
   "execution_count": 53
  },
  {
   "metadata": {
    "ExecuteTime": {
     "end_time": "2025-04-23T12:09:02.688660Z",
     "start_time": "2025-04-23T12:09:02.660208Z"
    }
   },
   "cell_type": "code",
   "source": [
    "%%sql\n",
    "SELECT *\n",
    "FROM facebook_event_checkin\n",
    "LEFT JOIN person ON facebook_event_checkin.person_id = person.id\n",
    "LEFT JOIN drivers_license ON person.license_id = drivers_license.id\n",
    "WHERE drivers_license.hair_color = \"red\"\n",
    "AND drivers_license.gender = \"female\"\n",
    "AND facebook_event_checkin.event_name = \"SQL Symphony Concert\"\n",
    "AND drivers_license.car_model = \"Model S\"\n",
    "AND drivers_license.car_make = \"Tesla\""
   ],
   "id": "936fae615829a365",
   "outputs": [
    {
     "data": {
      "text/plain": [
       "Running query in 'sqlite:///sql-murder-mystery.db'"
      ],
      "text/html": [
       "<span style=\"None\">Running query in &#x27;sqlite:///sql-murder-mystery.db&#x27;</span>"
      ]
     },
     "metadata": {},
     "output_type": "display_data"
    },
    {
     "data": {
      "text/plain": [
       "+-----------+----------+----------------------+----------+-------+------------------+------------+----------------+---------------------+-----------+--------+-----+--------+-----------+------------+--------+--------------+----------+-----------+\n",
       "| person_id | event_id |      event_name      |   date   |   id  |       name       | license_id | address_number | address_street_name |    ssn    |  id_1  | age | height | eye_color | hair_color | gender | plate_number | car_make | car_model |\n",
       "+-----------+----------+----------------------+----------+-------+------------------+------------+----------------+---------------------+-----------+--------+-----+--------+-----------+------------+--------+--------------+----------+-----------+\n",
       "|   99716   |   1143   | SQL Symphony Concert | 20171206 | 99716 | Miranda Priestly |   202298   |      1883      |      Golden Ave     | 987756388 | 202298 |  68 |   66   |   green   |    red     | female |    500123    |  Tesla   |  Model S  |\n",
       "|   99716   |   1143   | SQL Symphony Concert | 20171212 | 99716 | Miranda Priestly |   202298   |      1883      |      Golden Ave     | 987756388 | 202298 |  68 |   66   |   green   |    red     | female |    500123    |  Tesla   |  Model S  |\n",
       "|   99716   |   1143   | SQL Symphony Concert | 20171229 | 99716 | Miranda Priestly |   202298   |      1883      |      Golden Ave     | 987756388 | 202298 |  68 |   66   |   green   |    red     | female |    500123    |  Tesla   |  Model S  |\n",
       "+-----------+----------+----------------------+----------+-------+------------------+------------+----------------+---------------------+-----------+--------+-----+--------+-----------+------------+--------+--------------+----------+-----------+"
      ],
      "text/html": [
       "<table>\n",
       "    <thead>\n",
       "        <tr>\n",
       "            <th>person_id</th>\n",
       "            <th>event_id</th>\n",
       "            <th>event_name</th>\n",
       "            <th>date</th>\n",
       "            <th>id</th>\n",
       "            <th>name</th>\n",
       "            <th>license_id</th>\n",
       "            <th>address_number</th>\n",
       "            <th>address_street_name</th>\n",
       "            <th>ssn</th>\n",
       "            <th>id_1</th>\n",
       "            <th>age</th>\n",
       "            <th>height</th>\n",
       "            <th>eye_color</th>\n",
       "            <th>hair_color</th>\n",
       "            <th>gender</th>\n",
       "            <th>plate_number</th>\n",
       "            <th>car_make</th>\n",
       "            <th>car_model</th>\n",
       "        </tr>\n",
       "    </thead>\n",
       "    <tbody>\n",
       "        <tr>\n",
       "            <td>99716</td>\n",
       "            <td>1143</td>\n",
       "            <td>SQL Symphony Concert</td>\n",
       "            <td>20171206</td>\n",
       "            <td>99716</td>\n",
       "            <td>Miranda Priestly</td>\n",
       "            <td>202298</td>\n",
       "            <td>1883</td>\n",
       "            <td>Golden Ave</td>\n",
       "            <td>987756388</td>\n",
       "            <td>202298</td>\n",
       "            <td>68</td>\n",
       "            <td>66</td>\n",
       "            <td>green</td>\n",
       "            <td>red</td>\n",
       "            <td>female</td>\n",
       "            <td>500123</td>\n",
       "            <td>Tesla</td>\n",
       "            <td>Model S</td>\n",
       "        </tr>\n",
       "        <tr>\n",
       "            <td>99716</td>\n",
       "            <td>1143</td>\n",
       "            <td>SQL Symphony Concert</td>\n",
       "            <td>20171212</td>\n",
       "            <td>99716</td>\n",
       "            <td>Miranda Priestly</td>\n",
       "            <td>202298</td>\n",
       "            <td>1883</td>\n",
       "            <td>Golden Ave</td>\n",
       "            <td>987756388</td>\n",
       "            <td>202298</td>\n",
       "            <td>68</td>\n",
       "            <td>66</td>\n",
       "            <td>green</td>\n",
       "            <td>red</td>\n",
       "            <td>female</td>\n",
       "            <td>500123</td>\n",
       "            <td>Tesla</td>\n",
       "            <td>Model S</td>\n",
       "        </tr>\n",
       "        <tr>\n",
       "            <td>99716</td>\n",
       "            <td>1143</td>\n",
       "            <td>SQL Symphony Concert</td>\n",
       "            <td>20171229</td>\n",
       "            <td>99716</td>\n",
       "            <td>Miranda Priestly</td>\n",
       "            <td>202298</td>\n",
       "            <td>1883</td>\n",
       "            <td>Golden Ave</td>\n",
       "            <td>987756388</td>\n",
       "            <td>202298</td>\n",
       "            <td>68</td>\n",
       "            <td>66</td>\n",
       "            <td>green</td>\n",
       "            <td>red</td>\n",
       "            <td>female</td>\n",
       "            <td>500123</td>\n",
       "            <td>Tesla</td>\n",
       "            <td>Model S</td>\n",
       "        </tr>\n",
       "    </tbody>\n",
       "</table>"
      ]
     },
     "execution_count": 70,
     "metadata": {},
     "output_type": "execute_result"
    }
   ],
   "execution_count": 70
  },
  {
   "metadata": {
    "ExecuteTime": {
     "end_time": "2025-04-23T12:11:31.876638Z",
     "start_time": "2025-04-23T12:11:31.856279Z"
    }
   },
   "cell_type": "code",
   "source": [
    "%%sql\n",
    "INSERT INTO solution VALUES (1, 'Miranda Priestly');\n",
    "SELECT value FROM solution;"
   ],
   "id": "a38e9054c1dbb353",
   "outputs": [
    {
     "data": {
      "text/plain": [
       "Running query in 'sqlite:///sql-murder-mystery.db'"
      ],
      "text/html": [
       "<span style=\"None\">Running query in &#x27;sqlite:///sql-murder-mystery.db&#x27;</span>"
      ]
     },
     "metadata": {},
     "output_type": "display_data"
    },
    {
     "data": {
      "text/plain": [
       "1 rows affected."
      ],
      "text/html": [
       "<span style=\"color: green\">1 rows affected.</span>"
      ]
     },
     "metadata": {},
     "output_type": "display_data"
    },
    {
     "data": {
      "text/plain": [
       "+--------------------------------------------------------------------------------------------------------------------------------------------------------------+\n",
       "|                                                                            value                                                                             |\n",
       "+--------------------------------------------------------------------------------------------------------------------------------------------------------------+\n",
       "| Congrats, you found the brains behind the murder! Everyone in SQL City hails you as the greatest SQL detective of all time. Time to break out the champagne! |\n",
       "+--------------------------------------------------------------------------------------------------------------------------------------------------------------+"
      ],
      "text/html": [
       "<table>\n",
       "    <thead>\n",
       "        <tr>\n",
       "            <th>value</th>\n",
       "        </tr>\n",
       "    </thead>\n",
       "    <tbody>\n",
       "        <tr>\n",
       "            <td>Congrats, you found the brains behind the murder! Everyone in SQL City hails you as the greatest SQL detective of all time. Time to break out the champagne!</td>\n",
       "        </tr>\n",
       "    </tbody>\n",
       "</table>"
      ]
     },
     "execution_count": 75,
     "metadata": {},
     "output_type": "execute_result"
    }
   ],
   "execution_count": 75
  }
 ],
 "metadata": {
  "kernelspec": {
   "display_name": ".venv",
   "language": "python",
   "name": "python3"
  },
  "language_info": {
   "codemirror_mode": {
    "name": "ipython",
    "version": 3
   },
   "file_extension": ".py",
   "mimetype": "text/x-python",
   "name": "python",
   "nbconvert_exporter": "python",
   "pygments_lexer": "ipython3",
   "version": "3.13.3"
  }
 },
 "nbformat": 4,
 "nbformat_minor": 5
}
